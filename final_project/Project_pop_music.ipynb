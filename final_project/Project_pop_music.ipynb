{
  "nbformat": 4,
  "nbformat_minor": 0,
  "metadata": {
    "colab": {
      "provenance": [],
      "authorship_tag": "ABX9TyMYCAnuRBbaEOTaGrX/j/QW",
      "include_colab_link": true
    },
    "kernelspec": {
      "name": "python3",
      "display_name": "Python 3"
    },
    "language_info": {
      "name": "python"
    }
  },
  "cells": [
    {
      "cell_type": "markdown",
      "metadata": {
        "id": "view-in-github",
        "colab_type": "text"
      },
      "source": [
        "<a href=\"https://colab.research.google.com/github/lcnature/PSY292_2024Fall/blob/main/final_project/Project_pop_music.ipynb\" target=\"_parent\"><img src=\"https://colab.research.google.com/assets/colab-badge.svg\" alt=\"Open In Colab\"/></a>"
      ]
    },
    {
      "cell_type": "markdown",
      "source": [
        "## First step, save this notebook to your own google drive\n",
        "\n",
        "Click on \"File\" button on the top-left, then click the button \"Save a copy in Drive\".\n",
        "\n",
        "It might open up a new window for the saved copy. If not, click the \"Open notebook\" button under \"File\" menu to select the copy you just saved.\n",
        "\n",
        "\n",
        "This way, all your edits will be saved in your google drive, and you can continue to work on it the next day.\n",
        "\n",
        "But remember, if you re-open a notebook after closing it, you need to run all the code blocks to make sure packages are imported and data are loaded, in order to continue.\n",
        "\n"
      ],
      "metadata": {
        "id": "m7A9RcBkTCoe"
      }
    },
    {
      "cell_type": "markdown",
      "source": [
        "### Project introduction\n",
        "In this project, you can analyze a dataset of the most streamed songs on Spotify in 2024.\n",
        "\n",
        "Here is a [link](https://www.kaggle.com/datasets/nelgiriyewithana/most-streamed-spotify-songs-2024) to the source of the dataset.\n",
        "\n",
        "Although you may find some codes from other people analyzing the data from the website, most of them did not perform rigorous statistical analysis and are with less value for reference. So please try to work on this project independently.\n",
        "\n"
      ],
      "metadata": {
        "id": "LdUYgx81NKhE"
      }
    },
    {
      "cell_type": "markdown",
      "source": [
        "To load the dataset, please run the following command."
      ],
      "metadata": {
        "id": "xk7C4-ciSjyL"
      }
    },
    {
      "cell_type": "code",
      "execution_count": null,
      "metadata": {
        "id": "DS4eKwvtNIo0"
      },
      "outputs": [],
      "source": [
        "import pandas as pd\n",
        "\n",
        "data = pd.read_csv(\n",
        "    'https://github.com/lcnature/PSY292_2024Fall/raw/refs/heads/main/final_project/datasets/music/Most_Streamed_Spotify_Songs_2024.csv',\n",
        "    delimiter=',', encoding='latin1')"
      ]
    },
    {
      "cell_type": "markdown",
      "source": [
        "You can inspect the names of all columns below (if the output is too long, you can click on the button on the left of the output to hide the lengthy output), as well as printing out the first five records (there are way more records than the first five in the dataset)\n"
      ],
      "metadata": {
        "id": "GNHRx6-tVaYI"
      }
    },
    {
      "cell_type": "code",
      "source": [
        "for col in data.columns:\n",
        "  print(col)\n",
        "\n",
        "data.head()"
      ],
      "metadata": {
        "collapsed": true,
        "id": "9yym1spzVXcH"
      },
      "execution_count": null,
      "outputs": []
    },
    {
      "cell_type": "markdown",
      "source": [
        "## Your task\n",
        "This is an open-ended assignment.\n",
        "\n",
        "Your task is to ask one or a few questions raised by yourself by analyzing the dataset. You can also think of the multivariate methods we introduce in the week of Nov 19.\n",
        "\n",
        "You will write your own text cell explaining your question. Then your notebook can interleave between code cells that analyze the data and text cells that explain what you are doing.\n",
        "\n",
        "At the end, please use the \"Download\" button in \"File\" menu to download the notebook as ipynb file to submit. Please also either use the \"Print\" button in \"Menu\" to print a pdf of the notebook, or, if it does not work, take a few screenshots of each portion and paste into a word document to submit.\n",
        "\n",
        "**Please submit both your notebook as ipynb file and pdf/screenshots to Blackboard.**\n",
        "\n",
        "Your report should contain at least:\n",
        "- one visualization of the data in relation to your question, in any way you choose.\n",
        "- applying one statistical technique you learned in class.\n",
        "- drawing a conclusion based on the outcome of the analysis (it does not matter if you don't find any significant effect).\n",
        "\n",
        "Evaluation criteria:\n",
        "- concise and clear description of your question and what your code does.\n",
        "- proper labeling of your figure(s) (e.g., labels for axes. `plt.xlabel()` is one example command)\n",
        "- proper usage of the tool you use.\n",
        "- proper conclusion based on the result.\n",
        "\n",
        "I pre-populated a few text sections below and loaded packages that you may use. Feel free to change the titles of each section, and find and use other packages."
      ],
      "metadata": {
        "id": "DtDjpYsmW4NK"
      }
    },
    {
      "cell_type": "code",
      "source": [
        "import numpy as np\n",
        "import pandas as pd\n",
        "import matplotlib.pyplot as plt\n",
        "import seaborn as sns\n",
        "import scipy.stats as stats\n",
        "import statsmodels.api as sm\n"
      ],
      "metadata": {
        "id": "0acAY8CaW2WU"
      },
      "execution_count": null,
      "outputs": []
    },
    {
      "cell_type": "markdown",
      "source": [
        "# My question / hypothesis"
      ],
      "metadata": {
        "id": "FATEXLLscp0I"
      }
    },
    {
      "cell_type": "markdown",
      "source": [
        "\n"
      ],
      "metadata": {
        "id": "WtSn15gpxAG3"
      }
    },
    {
      "cell_type": "markdown",
      "source": [
        "# Analysis"
      ],
      "metadata": {
        "id": "g7XrOU64c6Nl"
      }
    },
    {
      "cell_type": "code",
      "source": [],
      "metadata": {
        "id": "f0VjdhPYc8pj"
      },
      "execution_count": null,
      "outputs": []
    },
    {
      "cell_type": "markdown",
      "source": [
        "# Conclusion"
      ],
      "metadata": {
        "id": "HXu41SDOc9Im"
      }
    },
    {
      "cell_type": "markdown",
      "source": [],
      "metadata": {
        "id": "XAtZTYsbqeAX"
      }
    }
  ]
}
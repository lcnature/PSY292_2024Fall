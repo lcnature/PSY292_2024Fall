{
  "nbformat": 4,
  "nbformat_minor": 0,
  "metadata": {
    "colab": {
      "provenance": [],
      "authorship_tag": "ABX9TyPX9bm23IKrXFL2MtayDni/",
      "include_colab_link": true
    },
    "kernelspec": {
      "name": "python3",
      "display_name": "Python 3"
    },
    "language_info": {
      "name": "python"
    }
  },
  "cells": [
    {
      "cell_type": "markdown",
      "metadata": {
        "id": "view-in-github",
        "colab_type": "text"
      },
      "source": [
        "<a href=\"https://colab.research.google.com/github/lcnature/PSY292_2024Fall/blob/main/final_project/Project_NFL.ipynb\" target=\"_parent\"><img src=\"https://colab.research.google.com/assets/colab-badge.svg\" alt=\"Open In Colab\"/></a>"
      ]
    },
    {
      "cell_type": "markdown",
      "source": [
        "## First step, save this notebook to your own google drive\n",
        "\n",
        "Click on \"File\" button on the top-left, then click the button \"Save a copy in Drive\".\n",
        "\n",
        "It might open up a new window for the saved copy. If not, click the \"Open notebook\" button under \"File\" menu to select the copy you just saved.\n",
        "\n",
        "\n",
        "This way, all your edits will be saved in your google drive, and you can continue to work on it the next day.\n",
        "\n",
        "But remember, if you re-open a notebook after closing it, you need to run all the code blocks to make sure packages are imported and data are loaded, in order to continue.\n",
        "\n"
      ],
      "metadata": {
        "id": "m7A9RcBkTCoe"
      }
    },
    {
      "cell_type": "markdown",
      "source": [
        "### Project introduction\n",
        "In this project, you can use a dataset on NFL to explore any interesting question about players, and maybe make a prediction model for their performance!\n",
        "\n",
        "The dataset was downloaded from this [webpage](https://www.kaggle.com/datasets/kendallgillies/nflstatistics/data), which contains more description of the content of the dataset.\n",
        "\n",
        "There are some python notebooks in that webpage created by others that used this dataset. You are welcome to read them. But please do not simply copy/paste into your project report, as I can easily detect it. Plus, most of those notebooks only explored the dataset without seriously asking a statistical question.\n",
        "\n",
        "**Warning**: because the data are not all numerical, it may require more effort to clean the data before performing statistical analysis than other project. Because this dataset contain multiple files, it may take some additional effort and debugging to combine information across files. So my suggestion is to only focus on analyzing one file that interests you.\n",
        "\n",
        "\n",
        "\n"
      ],
      "metadata": {
        "id": "LdUYgx81NKhE"
      }
    },
    {
      "cell_type": "markdown",
      "source": [
        "To load the basic information of players, please run the following command."
      ],
      "metadata": {
        "id": "xk7C4-ciSjyL"
      }
    },
    {
      "cell_type": "code",
      "execution_count": null,
      "metadata": {
        "id": "DS4eKwvtNIo0"
      },
      "outputs": [],
      "source": [
        "import pandas as pd\n",
        "basic_stats = pd.read_csv('https://raw.githubusercontent.com/lcnature/PSY292_2024Fall/refs/heads/main/final_project/datasets/NFL/Basic_Stats.csv')"
      ]
    },
    {
      "cell_type": "markdown",
      "source": [
        "You can inspect the names of all columns below (if the output is too long, you can click on the button on the left of the output to hide the lengthy output)\n"
      ],
      "metadata": {
        "id": "GNHRx6-tVaYI"
      }
    },
    {
      "cell_type": "code",
      "source": [
        "for col in basic_stats.columns:\n",
        "  print(col)"
      ],
      "metadata": {
        "collapsed": true,
        "id": "9yym1spzVXcH"
      },
      "execution_count": null,
      "outputs": []
    },
    {
      "cell_type": "markdown",
      "source": [
        "The function below can help you load any type of career statistics data.\n",
        "\n",
        "To call the function, you can use the command `career_stats = load_career_stats(STATS_NAME)`, where `STATS_NAME` should be replaced by one of the names below that you choose to analyze.\n",
        "```\n",
        "Defensive\n",
        "Field_Goal_Kickers\n",
        "Fumbles\n",
        "Kick_Return\n",
        "Kickoff\n",
        "Offensive_Line\n",
        "Passing\n",
        "Punt_Return\n",
        "Punting\n",
        "Receiving\n",
        "Rushing\n",
        "```\n",
        "\n",
        "To call the function, you have to first run the code cell below.\n",
        "\n",
        "\n",
        "\n"
      ],
      "metadata": {
        "id": "GKdSKKCuV2Lg"
      }
    },
    {
      "cell_type": "code",
      "source": [
        "def load_career_stats(stats_name):\n",
        "  career_stats = pd.read_csv('https://raw.githubusercontent.com/lcnature/PSY292_2024Fall/refs/heads/main/final_project/datasets/NFL/Career_Stats_' + stats_name + '.csv')\n",
        "  return career_stats"
      ],
      "metadata": {
        "id": "WGbduT3YfG13"
      },
      "execution_count": null,
      "outputs": []
    },
    {
      "cell_type": "markdown",
      "source": [
        "For example, you can run the following command to load one dataset, and then view the names of the columns"
      ],
      "metadata": {
        "id": "CWHwM-03gKbA"
      }
    },
    {
      "cell_type": "code",
      "source": [
        "career_stats_Defensive = load_career_stats('Defensive')\n",
        "\n",
        "for col in career_stats_Defensive.columns:\n",
        "  print(col)"
      ],
      "metadata": {
        "id": "GXRBKPRIgV-K"
      },
      "execution_count": null,
      "outputs": []
    },
    {
      "cell_type": "markdown",
      "source": [
        "Similarly, the function below can help you load one of the game logs. But I think the career statistics may be easier to analyze than game logs.\n",
        "\n",
        "Here is the list of stats_name you can use to call the function below:\n",
        "\n",
        "```\n",
        "Quarterback\n",
        "Runningback\n",
        "Wide_Receiver_and_Tight_End\n",
        "Offensive_Line\n",
        "Defensive_Lineman\n",
        "Kickers\n",
        "Punters\n",
        "```"
      ],
      "metadata": {
        "id": "2khXp8VTgmtL"
      }
    },
    {
      "cell_type": "code",
      "source": [
        "def load_game_log(stats_name):\n",
        "  game_log = pd.read_csv('https://raw.githubusercontent.com/lcnature/PSY292_2024Fall/refs/heads/main/final_project/datasets/NFL/Game_Logs_' + stats_name + '.csv')\n",
        "  return game_log"
      ],
      "metadata": {
        "id": "NBr80mP1g_CO"
      },
      "execution_count": null,
      "outputs": []
    },
    {
      "cell_type": "markdown",
      "source": [
        "Here is one example usage:"
      ],
      "metadata": {
        "id": "TglPB7yKhLTb"
      }
    },
    {
      "cell_type": "code",
      "source": [
        "game_log_Quarterback = load_game_log('Quarterback')\n",
        "\n",
        "for col in game_log_Quarterback.columns:\n",
        "  print(col)"
      ],
      "metadata": {
        "id": "NVAKF7mRhN17"
      },
      "execution_count": null,
      "outputs": []
    },
    {
      "cell_type": "markdown",
      "source": [
        "## Your task\n",
        "This is an open-ended assignment.\n",
        "\n",
        "Your task is to ask one or a few questions raised by yourself by analyzing the dataset.\n",
        "\n",
        "You will write your own text cell explaining your question. Then your notebook can interleave between code cells that analyze the data and text cells that explain what you are doing.\n",
        "\n",
        "At the end, please use the \"Download\" button in \"File\" menu to download the notebook as ipynb file to submit. Please also either use the \"Print\" button in \"Menu\" to print a pdf of the notebook, or, if it does not work, take a few screenshots of each portion and paste into a word document to submit.\n",
        "\n",
        "**Please submit both your notebook as ipynb file and pdf/screenshots to Blackboard.**\n",
        "\n",
        "Your report should contain at least:\n",
        "- one visualization of the data in relation to your question, in any way you choose.\n",
        "- applying one statistical technique you learned in class.\n",
        "- drawing a conclusion based on the outcome of the analysis (it does not matter if you don't find any significant effect).\n",
        "\n",
        "Evaluation criteria:\n",
        "- concise and clear description of your question and what your code does.\n",
        "- proper labeling of your figure(s) (e.g., labels for axes. `plt.xlabel()` is one example command)\n",
        "- proper usage of the tool you use.\n",
        "- proper conclusion based on the result.\n",
        "\n",
        "I pre-populated a few text sections below and loaded packages that you may use. Feel free to change the titles of each section, and find and use other packages."
      ],
      "metadata": {
        "id": "DtDjpYsmW4NK"
      }
    },
    {
      "cell_type": "code",
      "source": [
        "import numpy as np\n",
        "import pandas as pd\n",
        "import matplotlib.pyplot as plt\n",
        "import seaborn as sns\n",
        "import scipy.stats as stats\n",
        "import statsmodels.api as sm\n"
      ],
      "metadata": {
        "id": "0acAY8CaW2WU"
      },
      "execution_count": null,
      "outputs": []
    },
    {
      "cell_type": "markdown",
      "source": [
        "# My question / hypothesis"
      ],
      "metadata": {
        "id": "FATEXLLscp0I"
      }
    },
    {
      "cell_type": "markdown",
      "source": [
        "\n"
      ],
      "metadata": {
        "id": "WtSn15gpxAG3"
      }
    },
    {
      "cell_type": "markdown",
      "source": [
        "# Analysis"
      ],
      "metadata": {
        "id": "g7XrOU64c6Nl"
      }
    },
    {
      "cell_type": "code",
      "source": [],
      "metadata": {
        "id": "f0VjdhPYc8pj"
      },
      "execution_count": null,
      "outputs": []
    },
    {
      "cell_type": "markdown",
      "source": [
        "# Conclusion"
      ],
      "metadata": {
        "id": "HXu41SDOc9Im"
      }
    },
    {
      "cell_type": "code",
      "source": [],
      "metadata": {
        "id": "MehwWAckc-YH"
      },
      "execution_count": null,
      "outputs": []
    }
  ]
}
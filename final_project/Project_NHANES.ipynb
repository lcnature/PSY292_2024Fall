{
  "nbformat": 4,
  "nbformat_minor": 0,
  "metadata": {
    "colab": {
      "provenance": [],
      "authorship_tag": "ABX9TyOjbwLTShCQ5cfem7RkusXu",
      "include_colab_link": true
    },
    "kernelspec": {
      "name": "python3",
      "display_name": "Python 3"
    },
    "language_info": {
      "name": "python"
    }
  },
  "cells": [
    {
      "cell_type": "markdown",
      "metadata": {
        "id": "view-in-github",
        "colab_type": "text"
      },
      "source": [
        "<a href=\"https://colab.research.google.com/github/lcnature/PSY292_2024Fall/blob/main/final_project/Project_NHANES.ipynb\" target=\"_parent\"><img src=\"https://colab.research.google.com/assets/colab-badge.svg\" alt=\"Open In Colab\"/></a>"
      ]
    },
    {
      "cell_type": "markdown",
      "source": [
        "## First step, save this notebook to your own google drive\n",
        "\n",
        "Click on \"File\" button on the top-left, then click the button \"Save a copy in Drive\".\n",
        "\n",
        "It might open up a new window for the saved copy. If not, click the \"Open notebook\" button under \"File\" menu to select the copy you just saved.\n",
        "\n",
        "\n",
        "This way, all your edits will be saved in your google drive, and you can continue to work on it the next day.\n",
        "\n",
        "But remember, if you re-open a notebook after closing it, you need to run all the code blocks to make sure packages are imported and data are loaded, in order to continue.\n",
        "\n"
      ],
      "metadata": {
        "id": "m7A9RcBkTCoe"
      }
    },
    {
      "cell_type": "markdown",
      "source": [
        "### Project introduction\n",
        "In this project, you can continue to utilize the dataset we have already used for multiple times in class - the National Health And Nutrition Examination Survey (NHANES) dataset.\n",
        "\n",
        "Here is a link to an overview of the project: [pdf](https://wwwn.cdc.gov/nchs/data/nhanes/2017-2018/documents/2017_nhanes_overview_brochure.pdf)\n",
        "\n",
        "The Python nhanes package we use loads the dataset in the years 2017-2018.\n"
      ],
      "metadata": {
        "id": "LdUYgx81NKhE"
      }
    },
    {
      "cell_type": "markdown",
      "source": [
        "To load the dataset, please run the following command."
      ],
      "metadata": {
        "id": "xk7C4-ciSjyL"
      }
    },
    {
      "cell_type": "code",
      "execution_count": null,
      "metadata": {
        "id": "DS4eKwvtNIo0"
      },
      "outputs": [],
      "source": [
        "!pip install nhanes\n",
        "from nhanes.load import load_NHANES_data, load_NHANES_metadata\n",
        "data = load_NHANES_data()"
      ]
    },
    {
      "cell_type": "markdown",
      "source": [
        "You can inspect the names of all columns below (if the output is too long, you can click on the button on the left of the output to hide the lengthy output)\n"
      ],
      "metadata": {
        "id": "GNHRx6-tVaYI"
      }
    },
    {
      "cell_type": "code",
      "source": [
        "for col in data.columns:\n",
        "  print(col)"
      ],
      "metadata": {
        "collapsed": true,
        "id": "9yym1spzVXcH"
      },
      "execution_count": null,
      "outputs": []
    },
    {
      "cell_type": "markdown",
      "source": [
        "If you want to know more information of the data, you can load the metadata as below."
      ],
      "metadata": {
        "id": "GKdSKKCuV2Lg"
      }
    },
    {
      "cell_type": "code",
      "source": [
        "metadata = load_NHANES_metadata()"
      ],
      "metadata": {
        "id": "IZ2KYhbzVsQ_"
      },
      "execution_count": null,
      "outputs": []
    },
    {
      "cell_type": "markdown",
      "source": [
        "`metadata` is also a data frame. it stores the information of each variable stored in `data`.\n",
        "\n",
        "[Here](https://wwwn.cdc.gov/nchs/nhanes/continuousnhanes/doccontents.aspx) is an overview of what each column in `metadata` represents.\n",
        "Below is an example of printing metadata for one variable."
      ],
      "metadata": {
        "id": "dqzJEo9VWAff"
      }
    },
    {
      "cell_type": "code",
      "source": [
        "metadata.loc['SmokedTobaccoLast5Days']"
      ],
      "metadata": {
        "id": "pZUtvmWhWTmM"
      },
      "execution_count": null,
      "outputs": []
    },
    {
      "cell_type": "markdown",
      "source": [
        "If one entry is too long to display, you can selectively print that entry like below."
      ],
      "metadata": {
        "id": "O9NvfnYsWvLu"
      }
    },
    {
      "cell_type": "code",
      "source": [
        "metadata.loc['SmokedTobaccoLast5Days','EnglishText']"
      ],
      "metadata": {
        "id": "Y0oWmjOaWdED"
      },
      "execution_count": null,
      "outputs": []
    },
    {
      "cell_type": "markdown",
      "source": [
        "## Your task\n",
        "This is an open-ended assignment.\n",
        "\n",
        "Your task is to ask one or a few questions raised by yourself by analyzing the dataset.\n",
        "\n",
        "You will write your own text cell explaining your question. Then your notebook can interleave between code cells that analyze the data and text cells that explain what you are doing.\n",
        "\n",
        "At the end, please use the \"Download\" button in \"File\" menu to download the notebook as ipynb file to submit. Please also either use the \"Print\" button in \"Menu\" to print a pdf of the notebook, or, if it does not work, take a few screenshots of each portion and paste into a word document to submit.\n",
        "\n",
        "**Please submit both your notebook as ipynb file and pdf/screenshots to Blackboard.**\n",
        "\n",
        "Your report should contain at least:\n",
        "- one visualization of the data in relation to your question, in any way you choose.\n",
        "- applying one statistical technique you learned in class.\n",
        "- drawing a conclusion based on the outcome of the analysis (it does not matter if you don't find any significant effect).\n",
        "\n",
        "Evaluation criteria:\n",
        "- concise and clear description of your question and what your code does.\n",
        "- proper labeling of your figure(s) (e.g., labels for axes. `plt.xlabel()` is one example command)\n",
        "- proper usage of the tool you use.\n",
        "- proper conclusion based on the result.\n",
        "\n",
        "I pre-populated a few text sections below and loaded packages that you may use. Feel free to change the titles of each section, and find and use other packages."
      ],
      "metadata": {
        "id": "DtDjpYsmW4NK"
      }
    },
    {
      "cell_type": "code",
      "source": [
        "import numpy as np\n",
        "import pandas as pd\n",
        "import matplotlib.pyplot as plt\n",
        "import seaborn as sns\n",
        "import scipy.stats as stats\n",
        "import statsmodels.api as sm\n"
      ],
      "metadata": {
        "id": "0acAY8CaW2WU"
      },
      "execution_count": null,
      "outputs": []
    },
    {
      "cell_type": "markdown",
      "source": [
        "# My question / hypothesis"
      ],
      "metadata": {
        "id": "FATEXLLscp0I"
      }
    },
    {
      "cell_type": "markdown",
      "source": [
        "\n"
      ],
      "metadata": {
        "id": "WtSn15gpxAG3"
      }
    },
    {
      "cell_type": "markdown",
      "source": [
        "# Analysis"
      ],
      "metadata": {
        "id": "g7XrOU64c6Nl"
      }
    },
    {
      "cell_type": "code",
      "source": [],
      "metadata": {
        "id": "f0VjdhPYc8pj"
      },
      "execution_count": null,
      "outputs": []
    },
    {
      "cell_type": "markdown",
      "source": [
        "# Conclusion"
      ],
      "metadata": {
        "id": "HXu41SDOc9Im"
      }
    },
    {
      "cell_type": "code",
      "source": [],
      "metadata": {
        "id": "MehwWAckc-YH"
      },
      "execution_count": null,
      "outputs": []
    }
  ]
}
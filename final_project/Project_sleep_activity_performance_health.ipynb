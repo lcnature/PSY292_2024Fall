{
  "nbformat": 4,
  "nbformat_minor": 0,
  "metadata": {
    "colab": {
      "provenance": [],
      "authorship_tag": "ABX9TyPl9F5abqCpyWhpJXw1bN7a",
      "include_colab_link": true
    },
    "kernelspec": {
      "name": "python3",
      "display_name": "Python 3"
    },
    "language_info": {
      "name": "python"
    }
  },
  "cells": [
    {
      "cell_type": "markdown",
      "metadata": {
        "id": "view-in-github",
        "colab_type": "text"
      },
      "source": [
        "<a href=\"https://colab.research.google.com/github/lcnature/PSY292_2024Fall/blob/main/final_project/Project_sleep_activity_performance_health.ipynb\" target=\"_parent\"><img src=\"https://colab.research.google.com/assets/colab-badge.svg\" alt=\"Open In Colab\"/></a>"
      ]
    },
    {
      "cell_type": "markdown",
      "source": [
        "## First step, save this notebook to your own google drive\n",
        "\n",
        "Click on \"File\" button on the top-left, then click the button \"Save a copy in Drive\".\n",
        "\n",
        "It might open up a new window for the saved copy. If not, click the \"Open notebook\" button under \"File\" menu to select the copy you just saved.\n",
        "\n",
        "\n",
        "This way, all your edits will be saved in your google drive, and you can continue to work on it the next day.\n",
        "\n",
        "But remember, if you re-open a notebook after closing it, you need to run all the code blocks to make sure packages are imported and data are loaded, in order to continue.\n",
        "\n"
      ],
      "metadata": {
        "id": "m7A9RcBkTCoe"
      }
    },
    {
      "cell_type": "markdown",
      "source": [
        "### Project introduction\n",
        "In this project, you can use a dataset created by Prof. Gregory Samanez-Larkin at Duke University to investigate how sleep and amount of physical activity may be related to academic performance (grades for homework assignment et.,) and mental health (e.g., feeling of tiredness and stress).\n",
        "\n",
        "The dataset was collected by Fitbits on activity (number of steps taken by a student) and sleep as well as some data related to academic performance in a class and in general. You can use the dataset to examine how overall amount of steps and sleep are related to academic outcomes, or evaluate the effects of sleep variability (the opposite of sleep consistency) on academic outcomes. Studies have shown that sleep variability is more strongly related to grades than overall sleep. Of course, you can also ask any other interesting questions from this dataset.\n",
        "\n",
        "\n"
      ],
      "metadata": {
        "id": "LdUYgx81NKhE"
      }
    },
    {
      "cell_type": "markdown",
      "source": [
        "To load the dataset, please run the following command."
      ],
      "metadata": {
        "id": "xk7C4-ciSjyL"
      }
    },
    {
      "cell_type": "code",
      "execution_count": 1,
      "metadata": {
        "id": "DS4eKwvtNIo0"
      },
      "outputs": [],
      "source": [
        "import pandas as pd\n",
        "data = pd.read_csv('https://raw.githubusercontent.com/lcnature/PSY292_2024Fall/refs/heads/main/final_project/datasets/sleep_mental/stepsleepacademics.csv')"
      ]
    },
    {
      "cell_type": "markdown",
      "source": [
        "You can inspect the names of all columns below (if the output is too long, you can click on the button on the left of the output to hide the lengthy output)\n"
      ],
      "metadata": {
        "id": "GNHRx6-tVaYI"
      }
    },
    {
      "cell_type": "code",
      "source": [
        "for col in data.columns:\n",
        "  print(col)"
      ],
      "metadata": {
        "collapsed": true,
        "id": "9yym1spzVXcH",
        "colab": {
          "base_uri": "https://localhost:8080/"
        },
        "outputId": "84b79378-b0b7-4113-ecf1-219497a9245a"
      },
      "execution_count": null,
      "outputs": [
        {
          "output_type": "stream",
          "name": "stdout",
          "text": [
            "student\n",
            "stepsave\n",
            "stepslmh\n",
            "stepssd\n",
            "stepssdlmh\n",
            "sleepave\n",
            "sleeplmh\n",
            "sleepsd\n",
            "sleepsdlmh\n",
            "female\n",
            "psetz\n",
            "psetz_minus3lowest\n",
            "understandse\n",
            "corrguesserror\n",
            "hwcondiff\n",
            "leccondiff\n",
            "lecturetired\n",
            "preexamstress\n"
          ]
        }
      ]
    },
    {
      "cell_type": "markdown",
      "source": [
        "### Meaning of each column\n",
        "Below is the description of these variables:\n",
        "\n",
        "student: participant ID number\n",
        "\n",
        "stepsave: average daily steps across all days\n",
        "\n",
        "stepslmh: categorical version of stepsave where 1 = lowest third of average steps, 2 = middle third of average steps, and 3 = highest third of average steps\n",
        "\n",
        "stepssd: mean-squared successive differences across all adjacent days where step data were available\n",
        "\n",
        "stepssdlmh: categorical version of stepssd where 1 = lowest third of step variability, 2 = middle third of step variability, and 3 = highest third of step variability\n",
        "\n",
        "sleepave: average minutes of sleep across all days\n",
        "\n",
        "sleeplmh: categorical version of sleepave where 1 = lowest third of average sleep, 2 = middle third of average sleep, and 3 = highest third of average sleep\n",
        "\n",
        "sleepsd: mean-squared successive differences across all adjacent days where sleep data were available\n",
        "\n",
        "sleepsdlmh: categorical version of sleepsd where 1 = lowest third of sleep variability, 2 = middle third of sleep variability, and 3 = highest third of sleep variability\n",
        "\n",
        "female: 1 = female, 0 = male\n",
        "\n",
        "psetz: z-standardized average of weekly homework assignment grades across the semester\n",
        "\n",
        "psetz_minus3lowest: same as psetz but lowest 3 scores removed to evaluate robustness of effects to potential outliers\n",
        "\n",
        "understandse: self-reported rating of how well the student understand the concept of standard error after the first lecture introducing the concept, 1-7 Likert scale where higher scores are better understanding\n",
        "\n",
        "corrguesserror: average error scores after playing one round of guessthecorrelation.com higher scores are worse guesses at the correlation depicted in scatterplots\n",
        "\n",
        "hwcondiff: self-reported difficulty concentrating while doing homework assignments on 1-7 Likert scale where higher scores are more difficulty concentrating\n",
        "\n",
        "leccondiff: self-reported difficulty concentrating during lecture on 1-7 Likert scale where higher scores are more difficulty concentrating\n",
        "\n",
        "lecturetired: self-reported tiredness at the beginning of class on a 1-7 Likert scale where higher scores are more tired\n",
        "\n",
        "preexamstress: self-reported stress level before an exam on 1-7 Likert scale where higher scores are higher levels of stress\n",
        "\n"
      ],
      "metadata": {
        "id": "GKdSKKCuV2Lg"
      }
    },
    {
      "cell_type": "markdown",
      "source": [
        "## Your task\n",
        "This is an open-ended assignment.\n",
        "\n",
        "Your task is to ask one or a few questions raised by yourself by analyzing the dataset.\n",
        "\n",
        "You will write your own text cell explaining your question. Then your notebook can interleave between code cells that analyze the data and text cells that explain what you are doing.\n",
        "\n",
        "At the end, please use the \"Download\" button in \"File\" menu to download the notebook as ipynb file to submit. Please also either use the \"Print\" button in \"Menu\" to print a pdf of the notebook, or, if it does not work, take a few screenshots of each portion and paste into a word document to submit.\n",
        "\n",
        "**Please submit both your notebook as ipynb file and pdf/screenshots to Blackboard.**\n",
        "\n",
        "Your report should contain at least:\n",
        "- one visualization of the data in relation to your question, in any way you choose.\n",
        "- applying one statistical technique you learned in class.\n",
        "- drawing a conclusion based on the outcome of the analysis (it does not matter if you don't find any significant effect).\n",
        "\n",
        "Evaluation criteria:\n",
        "- concise and clear description of your question and what your code does.\n",
        "- proper labeling of your figure(s) (e.g., labels for axes. `plt.xlabel()` is one example command)\n",
        "- proper usage of the tool you use.\n",
        "- proper conclusion based on the result.\n",
        "\n",
        "I pre-populated a few text sections below and loaded packages that you may use. Feel free to change the titles of each section, and find and use other packages."
      ],
      "metadata": {
        "id": "DtDjpYsmW4NK"
      }
    },
    {
      "cell_type": "code",
      "source": [
        "import numpy as np\n",
        "import pandas as pd\n",
        "import matplotlib.pyplot as plt\n",
        "import seaborn as sns\n",
        "import scipy.stats as stats\n",
        "import statsmodels.api as sm\n"
      ],
      "metadata": {
        "id": "0acAY8CaW2WU"
      },
      "execution_count": null,
      "outputs": []
    },
    {
      "cell_type": "markdown",
      "source": [
        "# My question / hypothesis"
      ],
      "metadata": {
        "id": "FATEXLLscp0I"
      }
    },
    {
      "cell_type": "markdown",
      "source": [
        "\n"
      ],
      "metadata": {
        "id": "WtSn15gpxAG3"
      }
    },
    {
      "cell_type": "markdown",
      "source": [
        "# Analysis"
      ],
      "metadata": {
        "id": "g7XrOU64c6Nl"
      }
    },
    {
      "cell_type": "code",
      "source": [],
      "metadata": {
        "id": "f0VjdhPYc8pj"
      },
      "execution_count": null,
      "outputs": []
    },
    {
      "cell_type": "markdown",
      "source": [
        "# Conclusion"
      ],
      "metadata": {
        "id": "HXu41SDOc9Im"
      }
    },
    {
      "cell_type": "code",
      "source": [],
      "metadata": {
        "id": "MehwWAckc-YH"
      },
      "execution_count": null,
      "outputs": []
    }
  ]
}
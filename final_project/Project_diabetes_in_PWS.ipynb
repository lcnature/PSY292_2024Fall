{
  "nbformat": 4,
  "nbformat_minor": 0,
  "metadata": {
    "colab": {
      "provenance": [],
      "authorship_tag": "ABX9TyM/T4JwJxejyUDBFgvrKZIT",
      "include_colab_link": true
    },
    "kernelspec": {
      "name": "python3",
      "display_name": "Python 3"
    },
    "language_info": {
      "name": "python"
    }
  },
  "cells": [
    {
      "cell_type": "markdown",
      "metadata": {
        "id": "view-in-github",
        "colab_type": "text"
      },
      "source": [
        "<a href=\"https://colab.research.google.com/github/lcnature/PSY292_2024Fall/blob/main/final_project/Project_diabetes_in_PWS.ipynb\" target=\"_parent\"><img src=\"https://colab.research.google.com/assets/colab-badge.svg\" alt=\"Open In Colab\"/></a>"
      ]
    },
    {
      "cell_type": "markdown",
      "source": [
        "## First step, save this notebook to your own google drive\n",
        "\n",
        "Click on \"File\" button on the top-left, then click the button \"Save a copy in Drive\".\n",
        "\n",
        "It might open up a new window for the saved copy. If not, click the \"Open notebook\" button under \"File\" menu to select the copy you just saved.\n",
        "\n",
        "\n",
        "This way, all your edits will be saved in your google drive, and you can continue to work on it the next day.\n",
        "\n",
        "But remember, if you re-open a notebook after closing it, you need to run all the code blocks to make sure packages are imported and data are loaded, in order to continue.\n",
        "\n"
      ],
      "metadata": {
        "id": "m7A9RcBkTCoe"
      }
    },
    {
      "cell_type": "markdown",
      "source": [
        "### Project introduction\n",
        "In this project, you can use a dataset kindly provided by Dr. Jennifer Miller at University of Florida.\n",
        "\n",
        "Prader-Willi Syndrome is a rare genetic disorder that is featured with a symptom called hyperphagia (a strong desire to eat or unsatiated hunger) that starts at certain stage of life, which may lead to obesity. In addition, there is also a higher risk of diabetes. The dataset is collected to investigate the natural development of diabetes.\n",
        "\n",
        "The dataset contains a few measurements of patients at two different time points: HbAC1 (reflecting average blood sugar level in the last 3 months), fasting plasma glucose, height, weight, BMI, whether they are receiving growth hormone treatment (the only FDA-approved treatment for this disease), and whether they are taking glycemic control medicine (that treats diabetes) or any psychiatric medicine that may impact glycemic control medicine.\n",
        "\n",
        "It also contains other information of the patient, such as their type of genetic deficit (deletion means a segment of genes are missing, UPD means the copy of a segment of genes originally from patients' mom is duplicated, and ID likely indicates imprinting defect). ID is rare, so if you are interested in relationship of glucose level with genetic variant, you may concentrte on the other two types.\n",
        "\n",
        "The limitation of the dataset (which is also a good practice for dealing with real-world dataset) is that there are some variations in the way contents are entered that need data cleaning (e.g., replacing multiple equivalent values in certain columns with an identical value). The benefit is that if you find something interesting, Dr. Miller is happy for you to write a paper based on your finding.\n",
        "\n",
        "You may ask questions such as how diabetes naturally progress in the patient population, or any other questions.\n",
        "\n"
      ],
      "metadata": {
        "id": "LdUYgx81NKhE"
      }
    },
    {
      "cell_type": "markdown",
      "source": [
        "To load the dataset, please run the following command."
      ],
      "metadata": {
        "id": "xk7C4-ciSjyL"
      }
    },
    {
      "cell_type": "code",
      "execution_count": null,
      "metadata": {
        "id": "DS4eKwvtNIo0"
      },
      "outputs": [],
      "source": [
        "import pandas as pd\n",
        "data = pd.read_excel('https://github.com/lcnature/PSY292_2024Fall/raw/refs/heads/main/final_project/datasets/glucose_PWS/UFGlucoseHomeostasis_sex.xlsx')"
      ]
    },
    {
      "cell_type": "markdown",
      "source": [
        "You can inspect the names of all columns below, and print out the first five rows (there are more data than the first five rows)\n"
      ],
      "metadata": {
        "id": "GNHRx6-tVaYI"
      }
    },
    {
      "cell_type": "code",
      "source": [
        "for col in data.columns:\n",
        "  print(col)\n",
        "\n",
        "data.head()"
      ],
      "metadata": {
        "collapsed": true,
        "id": "9yym1spzVXcH"
      },
      "execution_count": null,
      "outputs": []
    },
    {
      "cell_type": "markdown",
      "source": [
        "## Your task\n",
        "This is an open-ended assignment.\n",
        "\n",
        "Your task is to ask one or a few questions raised by yourself by analyzing the dataset.\n",
        "\n",
        "You will write your own text cell explaining your question. Then your notebook can interleave between code cells that analyze the data and text cells that explain what you are doing.\n",
        "\n",
        "At the end, please use the \"Download\" button in \"File\" menu to download the notebook as ipynb file to submit. Please also either use the \"Print\" button in \"Menu\" to print a pdf of the notebook, or, if it does not work, take a few screenshots of each portion and paste into a word document to submit.\n",
        "\n",
        "**Please submit both your notebook as ipynb file and pdf/screenshots to Blackboard.**\n",
        "\n",
        "Your report should contain at least:\n",
        "- one visualization of the data in relation to your question, in any way you choose.\n",
        "- applying one statistical technique you learned in class.\n",
        "- drawing a conclusion based on the outcome of the analysis (it does not matter if you don't find any significant effect).\n",
        "\n",
        "Evaluation criteria:\n",
        "- concise and clear description of your question and what your code does.\n",
        "- proper labeling of your figure(s) (e.g., labels for axes. `plt.xlabel()` is one example command)\n",
        "- proper usage of the tool you use.\n",
        "- proper conclusion based on the result.\n",
        "\n",
        "I pre-populated a few text sections below and loaded packages that you may use. Feel free to change the titles of each section, and find and use other packages."
      ],
      "metadata": {
        "id": "DtDjpYsmW4NK"
      }
    },
    {
      "cell_type": "code",
      "source": [
        "import numpy as np\n",
        "import pandas as pd\n",
        "import matplotlib.pyplot as plt\n",
        "import seaborn as sns\n",
        "import scipy.stats as stats\n",
        "import statsmodels.api as sm\n"
      ],
      "metadata": {
        "id": "0acAY8CaW2WU"
      },
      "execution_count": null,
      "outputs": []
    },
    {
      "cell_type": "markdown",
      "source": [
        "# My question / hypothesis"
      ],
      "metadata": {
        "id": "FATEXLLscp0I"
      }
    },
    {
      "cell_type": "markdown",
      "source": [
        "\n"
      ],
      "metadata": {
        "id": "WtSn15gpxAG3"
      }
    },
    {
      "cell_type": "markdown",
      "source": [
        "# Analysis"
      ],
      "metadata": {
        "id": "g7XrOU64c6Nl"
      }
    },
    {
      "cell_type": "code",
      "source": [],
      "metadata": {
        "id": "f0VjdhPYc8pj"
      },
      "execution_count": null,
      "outputs": []
    },
    {
      "cell_type": "markdown",
      "source": [
        "# Conclusion"
      ],
      "metadata": {
        "id": "HXu41SDOc9Im"
      }
    },
    {
      "cell_type": "markdown",
      "source": [],
      "metadata": {
        "id": "XBrr57Z04K9f"
      }
    }
  ]
}
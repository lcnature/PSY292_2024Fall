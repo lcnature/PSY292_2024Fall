{
  "nbformat": 4,
  "nbformat_minor": 0,
  "metadata": {
    "colab": {
      "provenance": [],
      "authorship_tag": "ABX9TyMaE8wq65Ucg/P+XQNcqGKd",
      "include_colab_link": true
    },
    "kernelspec": {
      "name": "python3",
      "display_name": "Python 3"
    },
    "language_info": {
      "name": "python"
    }
  },
  "cells": [
    {
      "cell_type": "markdown",
      "metadata": {
        "id": "view-in-github",
        "colab_type": "text"
      },
      "source": [
        "<a href=\"https://colab.research.google.com/github/lcnature/PSY292_2024Fall/blob/main/HW_Ch8.ipynb\" target=\"_parent\"><img src=\"https://colab.research.google.com/assets/colab-badge.svg\" alt=\"Open In Colab\"/></a>"
      ]
    },
    {
      "cell_type": "markdown",
      "source": [
        "## Task 1 approximate cumulative probability distribution by Monte Carlo simulation\n",
        "We can generate numbers from many probability distributions using `scipy.stats` package. For example, to generate a normal distribution with mean of 100, standard deviation of 15, we can first create an object corresponding to this distribution:\n",
        "\n",
        "`dist = scipy.stats.norm(loc=100, scale=15)`\n",
        "\n",
        "Here, `loc` stands for location, or the mean of the distribution. `scale` stands for the spread, or standard deviation of the distribution.\n",
        "\n",
        "Then, we can draw random numbers from it using `rvs` function (`rvs` stands for random variate, or outcome of a random variable) by specifying how many numbers we want.\n",
        "\n",
        "`sample = dist.rvs(10000)` will draw 10000 random numbers. The variable name `sample` now points to an array of 10000 numbers.\n",
        "\n",
        "Now, we can use the sample drawn to estimate cumulative probability distribution for this normal distribution.\n",
        "\n",
        "To do that, we can generate a new array of binary numbers of the same size, each of which indicates whether a random number in our sample is smaller or equal to a value.\n",
        "\n",
        "For example, `se = sample <= 100` will tell whether each number is no larger than 100. If we take the mean of this binary array `se` by `np.mean(se)`, we should get a number close to 0.5, because 100 is the mean of the normal distribution.\n",
        "\n",
        "Now, based on the example code above, can you write a \"for\" loop to estimate the cumulative probability distribution for this normal distribution with mean 100 and standard deviation 15, and plot it as a curve?\n",
        "\n",
        "Hint: you can create an array for the x-values of a curve by `np.arange(50, 150)`, and then using a \"for\" loop to iterate over each x-value and calculate how often samples are below or equal to each x-value as y-values. We have seen an example of \"for\" loop in this [notebook](https://colab.research.google.com/github/lcnature/statsthinking21-python/blob/master/notebooks/06-Sampling.ipynb#scrollTo=s_gDIauW7SjW&line=3&uniqifier=1) of the previous lecture. To plot a curve, you can use `plt.plot` function, as how the red curve was plotted in this same [notebook](https://colab.research.google.com/github/lcnature/statsthinking21-python/blob/master/notebooks/06-Sampling.ipynb#scrollTo=cfWIzi1j7SjW&line=9&uniqifier=1)\n",
        "\n",
        "\n",
        "Please complete the task in the cell below. Feel free to copy and paste the codes above before writing your \"for\" loop."
      ],
      "metadata": {
        "id": "DNWJg5YfqtE8"
      }
    },
    {
      "cell_type": "code",
      "source": [
        "import numpy as np\n",
        "import scipy.stats\n",
        "import matplotlib.pyplot as plt\n",
        "\n"
      ],
      "metadata": {
        "id": "Ex7-6tvEqsId"
      },
      "execution_count": null,
      "outputs": []
    },
    {
      "cell_type": "markdown",
      "source": [
        "## Task 2 Using bootstrap to estimate the distribution of medians of samples"
      ],
      "metadata": {
        "id": "74r7ZpsfqrkQ"
      }
    },
    {
      "cell_type": "code",
      "execution_count": null,
      "metadata": {
        "id": "VIZC9mEPno-I"
      },
      "outputs": [],
      "source": [
        "! pip install nhanes\n",
        "from nhanes.load import load_NHANES_data\n",
        "nhanes_data = load_NHANES_data()\n",
        "\n",
        "nhanes_data = nhanes_data.dropna(subset=['TotalSaturatedFattyAcidsGm_DR2TOT'])\n"
      ]
    },
    {
      "cell_type": "markdown",
      "source": [
        "By running the code above, you should have got a dataset with no missing value in the column of 'TotalSaturatedFattyAcidsGm_DR2TOT'."
      ],
      "metadata": {
        "id": "aRk8FF1loH2-"
      }
    },
    {
      "cell_type": "markdown",
      "source": [
        "In the [notebook](https://colab.research.google.com/github/lcnature/statsthinking21-python/blob/master/notebooks/07-ResamplingAndSimulation.ipynb) we discussed in class, bootstrap was demonstrated for the mean of a sample.\n",
        "\n",
        "Now, can you mimic the code in the notebook above to perform a bootstrap, but instead of obtaining a sampling distribution of mean by bootstrap, obtain a samplind distribution of **median**?\n",
        "\n",
        "\n",
        "I have provided the code below for bootstrapping the mean of total saturated fatty acids. You can run it first to see the distrbution, then modify the code properly to bootstrap for median. Do they look different? You only need to upload a screenshot for the result for the median."
      ],
      "metadata": {
        "id": "Bua7XoqnocVt"
      }
    },
    {
      "cell_type": "code",
      "source": [
        "import matplotlib.pyplot as plt\n",
        "import numpy as np\n",
        "import pandas as pd\n",
        "\n",
        "num_runs = 5000\n",
        "sample_size = 100\n",
        "\n",
        "\n",
        "\n",
        "# Take a sample for which we will perform the bootstrap\n",
        "\n",
        "nhanes_sample = nhanes_data.sample(sample_size)\n",
        "\n",
        "# Perform the resampling\n",
        "# Please modify the code to analyze median instead of mean\n",
        "bootstrap_df = pd.DataFrame({'mean': np.zeros(num_runs)})\n",
        "for sampling_run in range(num_runs):\n",
        "    bootstrap_sample = nhanes_sample.sample(sample_size, replace=True)\n",
        "    bootstrap_df.loc[sampling_run, 'mean'] = bootstrap_sample['TotalSaturatedFattyAcidsGm_DR2TOT'].mean()\n",
        "\n",
        "\n",
        "hist = plt.hist(bootstrap_df['mean'], 100, density=True)\n",
        "\n",
        "plt.xlabel('Bootstrapped mean of total saturated fatty acids')\n",
        "plt.show()"
      ],
      "metadata": {
        "id": "8T2_xLBaoGYv"
      },
      "execution_count": null,
      "outputs": []
    }
  ]
}
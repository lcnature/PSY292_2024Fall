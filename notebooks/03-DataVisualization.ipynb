{
  "cells": [
    {
      "cell_type": "markdown",
      "metadata": {
        "id": "7zZ2q4nYLyCS"
      },
      "source": [
        "# Data Visualization"
      ]
    },
    {
      "cell_type": "markdown",
      "metadata": {
        "id": "r8TdljPGLyCT"
      },
      "source": [
        "There are two main packages that we will use for visualization in Python: [matplotlib](https://matplotlib.org/) and [seaborn](https://seaborn.pydata.org/), which is based on matplotlib.  First, let's import these.  It is customary to import the pyplot module from matplotlib, since it contains most of the important plotting functions:"
      ]
    },
    {
      "cell_type": "code",
      "execution_count": null,
      "metadata": {
        "lines_to_next_cell": 2,
        "id": "H8vkTL-ELyCT"
      },
      "outputs": [],
      "source": [
        "import matplotlib.pyplot as plt\n",
        "import seaborn as sns\n",
        "import numpy as np\n",
        "import pandas as pd"
      ]
    },
    {
      "cell_type": "markdown",
      "metadata": {
        "lines_to_next_cell": 2,
        "id": "yewDfcHLLyCT"
      },
      "source": [
        "## Let's think through a visualization\n",
        "\n",
        "Principles we want to keep in mind:\n",
        "\n",
        "* Show the data without distortion\n",
        "* Use color, shape, and location to encourage comparisons\n",
        "* Minimize visual clutter (maximize your information to ink ratio)\n",
        "\n",
        "The two questions you want to ask yourself before getting started are:\n",
        "\n",
        "* What type of variable(s) am I plotting?\n",
        "* What comparison do I want to make salient for the viewer (possibly myself)?\n",
        "\n",
        "Figuring out *how* to highlight a comparison and include relevant variables usually benefits from sketching the plot out first."
      ]
    },
    {
      "cell_type": "markdown",
      "metadata": {
        "lines_to_next_cell": 2,
        "id": "bq7cbi_bLyCU"
      },
      "source": [
        "## Plotting the distribution of a single variable\n",
        "\n",
        "One of the most common uses of plotting is to plot the *distribution* of the data --- which you can think of as the *shape* of the data.  There are various ways to do this, but one of the most common is known as a *histogram*, which plots the number of observations that fall into specific bins. We can plot a histogram using the `plt.hist()` function from matplotlib.  As an example, let's look at the distribution of ages in the NHANES dataset.  First we need to load the data:"
      ]
    },
    {
      "cell_type": "code",
      "source": [
        "! pip install nhanes"
      ],
      "metadata": {
        "id": "YVFh6cuJL_c_"
      },
      "execution_count": null,
      "outputs": []
    },
    {
      "cell_type": "code",
      "execution_count": null,
      "metadata": {
        "id": "PdkNcsWkLyCU"
      },
      "outputs": [],
      "source": [
        "from nhanes.load import load_NHANES_data\n",
        "nhanes_data = load_NHANES_data()"
      ]
    },
    {
      "cell_type": "markdown",
      "metadata": {
        "lines_to_next_cell": 2,
        "id": "6nhPy3KNLyCV"
      },
      "source": [
        "Then we can plot the histogram:"
      ]
    },
    {
      "cell_type": "code",
      "execution_count": null,
      "metadata": {
        "id": "NhTGc7YFLyCV"
      },
      "outputs": [],
      "source": [
        "age_histogram = plt.hist(nhanes_data['AgeInYearsAtScreening'])"
      ]
    },
    {
      "cell_type": "markdown",
      "metadata": {
        "id": "2GGjHfk1LyCV"
      },
      "source": [
        "You can see from this plot that the `plt.hist()` function has binned together individuals across several years; That's because we let it automatically determine the size of the bins. Let's say that instead we want to bin each year separately.  We can do this using the `bins` argument to `plt.hist`. Because this argument takes a list of bins, we need to create a list that spans from the youngest to the oldest age.  We can do this using the `np.arange()` function from numpy, which generates a list of numbers that span a particular range. In this case, we need to span from the youngest to the oldest value, which are equivalent to the minimum and maximum values which we can obtain using the `.min()` and `.max()` operators. The addition of 2 is to ensure that every age group is placed into one single bin (the reason is related to how `plt.hist` decide whether the values at the boundary of each bin is counted into that bin and how `np.arange()` defines the boundary, which go too much into details)."
      ]
    },
    {
      "cell_type": "code",
      "execution_count": null,
      "metadata": {
        "id": "T19ag0nFLyCV"
      },
      "outputs": [],
      "source": [
        "print(np.sort(nhanes_data['AgeInYearsAtScreening'].unique()))\n",
        "\n",
        "bins = np.arange(nhanes_data['AgeInYearsAtScreening'].min(), nhanes_data['AgeInYearsAtScreening'].max() + 2)\n",
        "age_histogram_1year_bins = plt.hist(nhanes_data['AgeInYearsAtScreening'], bins=bins)"
      ]
    },
    {
      "cell_type": "markdown",
      "metadata": {
        "id": "IiERBzQPLyCW"
      },
      "source": [
        "Sometimes it's more useful to look at the density rather than the counts, which we can do by setting `density=True` in our call to the histogram function:"
      ]
    },
    {
      "cell_type": "code",
      "execution_count": null,
      "metadata": {
        "id": "olscS_unLyCW"
      },
      "outputs": [],
      "source": [
        "age_density_1year_bins = plt.hist(nhanes_data['AgeInYearsAtScreening'], bins=bins, density=True)"
      ]
    },
    {
      "cell_type": "markdown",
      "metadata": {
        "id": "ITbFJp7PLyCW"
      },
      "source": [
        "Now we see the proportion of individuals that fall into each age bin.  Why do you think there are so many eighty-year-olds in the dataset?  Have a look at the [documentation for the Age question](https://wwwn.cdc.gov/Nchs/Nhanes/2017-2018/DEMO_J.htm#RIDAGEYR) and see if you can figure it out."
      ]
    },
    {
      "cell_type": "markdown",
      "metadata": {
        "id": "7Ic4a2PzLyCW"
      },
      "source": [
        "### Bar vs. line plots\n",
        "\n",
        "The histograms above are an example of *bar plots* where each number is represented by a bar. We could also plot the distribution using a line instead.  One reason to do this is that we can make the line a bit *smoother* than the actual data.  For example, here are the histogram data from above, plotted as a line:"
      ]
    },
    {
      "cell_type": "code",
      "execution_count": null,
      "metadata": {
        "id": "2SV_R9NRLyCW"
      },
      "outputs": [],
      "source": [
        "plt.plot(age_density_1year_bins[1][1:], age_density_1year_bins[0])\n",
        "plt.show()"
      ]
    },
    {
      "cell_type": "markdown",
      "metadata": {
        "id": "ZdujRtB7LyCW"
      },
      "source": [
        "Here we have taken advantage of the fact that the output of our histogram command above contains both the bins (in its [1] position) and the histogram values (in its [0]) position.  Why do we include `[1:]` after the bins variable?  This is because the bins include both the upper and lower edges of the bin, which means that there is one more bin value than there are average values.  Adding `[1:]` is equivalent to saying \"start with the second bin\" which is equivalent to using the top edges of each bin for our X axis.\n",
        "\n",
        "Now let's plot a smoothed version of the histogram, using the `sns.histplot()` function from the seaborn library by including an argument of `kde=True`.  "
      ]
    },
    {
      "cell_type": "code",
      "execution_count": null,
      "metadata": {
        "id": "97MYjMqrLyCW"
      },
      "outputs": [],
      "source": [
        "sns.histplot(nhanes_data['AgeInYearsAtScreening'], bins=bins, kde=True)"
      ]
    },
    {
      "cell_type": "markdown",
      "metadata": {
        "id": "g0WT7rNbLyCW"
      },
      "source": [
        "You can see that the line is now much smoother (less bumpy) than the one above.  It generally follows the overall shape of the data pretty closely, but you can also see that it mostly hides the large bump at 80 years.  It's always important to keep in mind that anything we do to the data has the potential to distort their message."
      ]
    },
    {
      "cell_type": "markdown",
      "metadata": {
        "id": "OxZb4Ef7LyCW"
      },
      "source": [
        "## Plots with two variables\n",
        "\n",
        "Another common use of visualization is to examine the relationship betwen two variables.  For example, let's say that we wanted to plot average height as a function of age in the NHANES dataset.  We would first summarize the data to obtain the average height for each age:"
      ]
    },
    {
      "cell_type": "code",
      "execution_count": null,
      "metadata": {
        "id": "Aj0Yf0kZLyCW"
      },
      "outputs": [],
      "source": [
        "mean_height_by_age = nhanes_data.groupby('AgeInYearsAtScreening')['StandingHeightCm'].mean()\n",
        "print(mean_height_by_age)"
      ]
    },
    {
      "cell_type": "markdown",
      "metadata": {
        "id": "ClDM9fTdLyCW"
      },
      "source": [
        "Here we use a method called `.groupby()` along with a builtin in method for computing the average of a variable in a dataframe (`.mean()`).  This returns a single average height value for all of the individuals in each age group, which we can then plot.  While we are at it, we will add descriptive labels to the X and Y axes, which is always a good idea:"
      ]
    },
    {
      "cell_type": "code",
      "execution_count": null,
      "metadata": {
        "id": "ZsAKHwlQLyCW"
      },
      "outputs": [],
      "source": [
        "plt.plot(mean_height_by_age.index, mean_height_by_age)\n",
        "plt.xlabel('Age at screening')\n",
        "plt.ylabel('Standing Height (cm)')\n",
        "plt.show()"
      ]
    },
    {
      "cell_type": "markdown",
      "metadata": {
        "id": "mTlqHfcALyCX"
      },
      "source": [
        "As expected, people get taller up to about age 18, and then then slowly shrink over time.  Since we know that men and women differ in their height, we can also plot their average heights separately. We could do this using the matplot plotting function, but it's actually easier to do using the `sns.lineplot()` function from the seaborn library that we imported above.  We simply give it the X and Y variables that we want to plot as well as the variable that we want to separate (using different colors), and it does the work for us:"
      ]
    },
    {
      "cell_type": "code",
      "execution_count": null,
      "metadata": {
        "lines_to_next_cell": 2,
        "id": "rP6OuhiVLyCX"
      },
      "outputs": [],
      "source": [
        "sns.lineplot(x='AgeInYearsAtScreening', y='StandingHeightCm', hue='Gender', data=nhanes_data)"
      ]
    },
    {
      "cell_type": "markdown",
      "metadata": {
        "id": "jOYKs86zLyCX"
      },
      "source": [
        "You will notice that the lines have shaded areas around them; these are called *confidence intervals*, and you will learn about them later in the course.  They basically tell us something about the uncertainty around our estimates of the average."
      ]
    },
    {
      "cell_type": "markdown",
      "metadata": {
        "id": "QtB-ORaaLyCX"
      },
      "source": [
        "## Plotting dispersion\n",
        "\n",
        "An important job of statistical visualization is to show us the variability, or *dispersion*, of our data.  We have already see how to do this using histograms; now let's look at how we can compare distributions.\n",
        "\n",
        "Let's start with a simple example: Comparing the height of adult men and women in the NHANES sample.  One commonly used plot is the *box plot* (sometimes known as a *box and whiskers plot*).  This form of plot uses quartiles to give us a sense of spread. The thickest line, somewhere inside the box, represents the *median*. The upper and lower bounds of the box (the *hinges*) are the first and third quartiles (can you use them to approximate the interquartile range?). The lines extending from the hinges are the remaining data points, excluding **outliers**, which are plotted as individual points."
      ]
    },
    {
      "cell_type": "code",
      "execution_count": null,
      "metadata": {
        "id": "y0vj7VaCLyCX"
      },
      "outputs": [],
      "source": [
        "adult_nhanes_data = nhanes_data.query('AgeInYearsAtScreening > 17')\n",
        "sns.boxplot(x='Gender', y='StandingHeightCm', data=adult_nhanes_data)"
      ]
    },
    {
      "cell_type": "markdown",
      "metadata": {
        "id": "k6SNl6GuLyCX"
      },
      "source": [
        "This tells us that the median male is taller than 75% of all of the females in the sample.\n",
        "\n",
        "Another type of plot that is commonly used is the *violin plot*, which shows the shape of the entire distribution:"
      ]
    },
    {
      "cell_type": "code",
      "execution_count": null,
      "metadata": {
        "id": "0qHuk6pfLyCX"
      },
      "outputs": [],
      "source": [
        "\n",
        "sns.violinplot(x='Gender', y='StandingHeightCm', data=adult_nhanes_data)"
      ]
    },
    {
      "cell_type": "markdown",
      "metadata": {
        "id": "acCJu4YvLyCX"
      },
      "source": [
        "### Scatter plot\n",
        "\n",
        "When we have multiple *continuous* variables, we can use points to plot each variable on an axis. This is known as a **scatter plot**. As an example, let's look at the blood pressure readings taken in the NHANES study.  Each individual has their blood pressure taken three times. Here we will plot the first reading against the second reading, using a scatter plot. We will also add a line showing where the x axis is equal to the y axis, which makes it easier to see how the two variables are related to each other."
      ]
    },
    {
      "cell_type": "code",
      "execution_count": null,
      "metadata": {
        "id": "HMJHGcbALyCX"
      },
      "outputs": [],
      "source": [
        "sns.scatterplot(x='SystolicBloodPres1StRdgMmHg',\n",
        "                y='SystolicBloodPres2NdRdgMmHg',\n",
        "                data=adult_nhanes_data)\n",
        "plt.plot([adult_nhanes_data['SystolicBloodPres1StRdgMmHg'].min(),\n",
        "          adult_nhanes_data['SystolicBloodPres1StRdgMmHg'].max()],\n",
        "          [adult_nhanes_data['SystolicBloodPres1StRdgMmHg'].min(),\n",
        "          adult_nhanes_data['SystolicBloodPres1StRdgMmHg'].max()],\n",
        "          color='k')\n",
        "plt.xlabel('Systolic BP - First reading')\n",
        "plt.ylabel('Systolic BP - Second reading')"
      ]
    },
    {
      "cell_type": "markdown",
      "metadata": {
        "lines_to_next_cell": 2,
        "id": "nSdvasQVLyCX"
      },
      "source": [
        "Here we can see that the two variables are closely related to one another.  We can also see that most of the blue points fall below the black line, which tells us that the second reading is generally somewhat lower than the first reading."
      ]
    },
    {
      "cell_type": "markdown",
      "metadata": {
        "id": "4VGw0LYhLyCX"
      },
      "source": [
        "In this section we will recreate a version of [Figure 4.2](https://statsthinking21.github.io/statsthinking21-core-site/data-visualization.html#anatomy-of-a-plot) from Statistical Thinking in the 21st Century.  "
      ]
    },
    {
      "cell_type": "code",
      "execution_count": null,
      "metadata": {
        "lines_to_next_cell": 2,
        "id": "0pEsgG6cLyCX"
      },
      "outputs": [],
      "source": [
        "\n",
        "oring_data = pd.read_csv('https://raw.githubusercontent.com/statsthinking21/statsthinking21-python/master/notebooks/data/orings.csv', index_col=0)\n",
        "\n",
        "ax = sns.lineplot(x='Temperature', y='DamageIndex', data=oring_data, ci=None)\n",
        "plt.xlabel('Temperature at time of launch')\n",
        "plt.ylabel('Damage Index')\n",
        "ax.fill_between([26, 29], 0, 12,\n",
        "                facecolor='red', alpha=0.3)\n",
        "ax.text(27, 1, 'Forecasted temperature on Jan 28', rotation=90)\n",
        "plt.show()"
      ]
    },
    {
      "cell_type": "code",
      "execution_count": null,
      "metadata": {
        "id": "CgI1Cw0eLyCX"
      },
      "outputs": [],
      "source": []
    }
  ],
  "metadata": {
    "jupytext": {
      "formats": "ipynb,py:percent"
    },
    "kernelspec": {
      "display_name": "Python 3",
      "language": "python",
      "name": "python3"
    },
    "language_info": {
      "codemirror_mode": {
        "name": "ipython",
        "version": 3
      },
      "file_extension": ".py",
      "mimetype": "text/x-python",
      "name": "python",
      "nbconvert_exporter": "python",
      "pygments_lexer": "ipython3",
      "version": "3.8.3"
    },
    "colab": {
      "provenance": []
    }
  },
  "nbformat": 4,
  "nbformat_minor": 0
}